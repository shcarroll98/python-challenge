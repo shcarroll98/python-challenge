{
 "cells": [
  {
   "cell_type": "code",
   "execution_count": 2,
   "id": "f137d0af-4976-4efc-baa5-ec59d1f6ff39",
   "metadata": {},
   "outputs": [
    {
     "data": {
      "text/html": [
       "<div>\n",
       "<style scoped>\n",
       "    .dataframe tbody tr th:only-of-type {\n",
       "        vertical-align: middle;\n",
       "    }\n",
       "\n",
       "    .dataframe tbody tr th {\n",
       "        vertical-align: top;\n",
       "    }\n",
       "\n",
       "    .dataframe thead th {\n",
       "        text-align: right;\n",
       "    }\n",
       "</style>\n",
       "<table border=\"1\" class=\"dataframe\">\n",
       "  <thead>\n",
       "    <tr style=\"text-align: right;\">\n",
       "      <th></th>\n",
       "      <th>Date</th>\n",
       "      <th>Profit/Losses</th>\n",
       "    </tr>\n",
       "  </thead>\n",
       "  <tbody>\n",
       "    <tr>\n",
       "      <th>0</th>\n",
       "      <td>Jan-10</td>\n",
       "      <td>1088983</td>\n",
       "    </tr>\n",
       "    <tr>\n",
       "      <th>1</th>\n",
       "      <td>Feb-10</td>\n",
       "      <td>-354534</td>\n",
       "    </tr>\n",
       "    <tr>\n",
       "      <th>2</th>\n",
       "      <td>Mar-10</td>\n",
       "      <td>276622</td>\n",
       "    </tr>\n",
       "    <tr>\n",
       "      <th>3</th>\n",
       "      <td>Apr-10</td>\n",
       "      <td>-728133</td>\n",
       "    </tr>\n",
       "    <tr>\n",
       "      <th>4</th>\n",
       "      <td>May-10</td>\n",
       "      <td>852993</td>\n",
       "    </tr>\n",
       "  </tbody>\n",
       "</table>\n",
       "</div>"
      ],
      "text/plain": [
       "     Date  Profit/Losses\n",
       "0  Jan-10        1088983\n",
       "1  Feb-10        -354534\n",
       "2  Mar-10         276622\n",
       "3  Apr-10        -728133\n",
       "4  May-10         852993"
      ]
     },
     "execution_count": 2,
     "metadata": {},
     "output_type": "execute_result"
    }
   ],
   "source": [
    "import os\n",
    "import csv\n",
    "import pandas as pd\n",
    "import pathlib as Path\n",
    "\n",
    "#import CSV as dataframe\n",
    "csv_path = (\"C:/Users/secar/OneDrive/Documents/Bootcamp/data/budget_data.csv\")\n",
    "budget_df = pd.read_csv(csv_path, encoding=\"UTF-8\")\n",
    "#inspect dataframe\n",
    "budget_df.head()\n"
   ]
  },
  {
   "cell_type": "code",
   "execution_count": 3,
   "id": "e11514d5-888a-4389-b9c7-4c70ffd2811e",
   "metadata": {},
   "outputs": [
    {
     "name": "stdout",
     "output_type": "stream",
     "text": [
      "<class 'pandas.core.frame.DataFrame'>\n",
      "RangeIndex: 86 entries, 0 to 85\n",
      "Data columns (total 2 columns):\n",
      " #   Column         Non-Null Count  Dtype \n",
      "---  ------         --------------  ----- \n",
      " 0   Date           86 non-null     object\n",
      " 1   Profit/Losses  86 non-null     int64 \n",
      "dtypes: int64(1), object(1)\n",
      "memory usage: 1.5+ KB\n"
     ]
    }
   ],
   "source": [
    "#checking amount of rows in the dataset\n",
    "budget_df.info()"
   ]
  },
  {
   "cell_type": "code",
   "execution_count": 4,
   "id": "e57c157d-cccb-448d-b3e7-945a6b9f1a75",
   "metadata": {},
   "outputs": [
    {
     "name": "stdout",
     "output_type": "stream",
     "text": [
      "Total Months: 86\n",
      "Total: 22564198\n"
     ]
    }
   ],
   "source": [
    "#dropping any duplicate months\n",
    "uniquerows = budget_df.drop_duplicates(subset='Date').shape[0]\n",
    "#getting the sum of the Profit/Loss amounts\n",
    "totalprofit = budget_df['Profit/Losses'].sum()\n",
    "print(\"Total Months:\", uniquerows)\n",
    "print(\"Total:\", totalprofit)"
   ]
  },
  {
   "cell_type": "code",
   "execution_count": 5,
   "id": "9b1d39a3-06d7-47d0-82bf-9ba551a35f24",
   "metadata": {},
   "outputs": [
    {
     "name": "stdout",
     "output_type": "stream",
     "text": [
      "Profit difference at index 1: -1443517\n",
      "Profit difference at index 2: 631156\n",
      "Profit difference at index 3: -1004755\n",
      "Profit difference at index 4: 1581126\n",
      "Profit difference at index 5: -289272\n",
      "Profit difference at index 6: -1098929\n",
      "Profit difference at index 7: 1167557\n",
      "Profit difference at index 8: -806093\n",
      "Profit difference at index 9: 1124485\n",
      "Profit difference at index 10: -1736491\n",
      "Profit difference at index 11: -408383\n",
      "Profit difference at index 12: 604557\n",
      "Profit difference at index 13: -294345\n",
      "Profit difference at index 14: 1327485\n",
      "Profit difference at index 15: 394323\n",
      "Profit difference at index 16: 243585\n",
      "Profit difference at index 17: -617439\n",
      "Profit difference at index 18: -1530577\n",
      "Profit difference at index 19: 1390390\n",
      "Profit difference at index 20: -1130397\n",
      "Profit difference at index 21: 1293604\n",
      "Profit difference at index 22: 641758\n",
      "Profit difference at index 23: -337413\n",
      "Profit difference at index 24: -52031\n",
      "Profit difference at index 25: -937192\n",
      "Profit difference at index 26: 863841\n",
      "Profit difference at index 27: -76245\n",
      "Profit difference at index 28: -100481\n",
      "Profit difference at index 29: -960729\n",
      "Profit difference at index 30: 591856\n",
      "Profit difference at index 31: 54930\n",
      "Profit difference at index 32: 680102\n",
      "Profit difference at index 33: -250254\n",
      "Profit difference at index 34: -840415\n",
      "Profit difference at index 35: 582358\n",
      "Profit difference at index 36: -48628\n",
      "Profit difference at index 37: -135256\n",
      "Profit difference at index 38: 978586\n",
      "Profit difference at index 39: -599210\n",
      "Profit difference at index 40: -442789\n",
      "Profit difference at index 41: 652924\n",
      "Profit difference at index 42: -1005714\n",
      "Profit difference at index 43: 1167373\n",
      "Profit difference at index 44: -234900\n",
      "Profit difference at index 45: -165147\n",
      "Profit difference at index 46: -52275\n",
      "Profit difference at index 47: -302320\n",
      "Profit difference at index 48: 719028\n",
      "Profit difference at index 49: -1825558\n",
      "Profit difference at index 50: 1287083\n",
      "Profit difference at index 51: -48303\n",
      "Profit difference at index 52: 210234\n",
      "Profit difference at index 53: -236414\n",
      "Profit difference at index 54: 585165\n",
      "Profit difference at index 55: -1400632\n",
      "Profit difference at index 56: 839777\n",
      "Profit difference at index 57: 465229\n",
      "Profit difference at index 58: 317811\n",
      "Profit difference at index 59: -760202\n",
      "Profit difference at index 60: -71868\n",
      "Profit difference at index 61: 795457\n",
      "Profit difference at index 62: -182685\n",
      "Profit difference at index 63: -1242836\n",
      "Profit difference at index 64: 1371884\n",
      "Profit difference at index 65: -445193\n",
      "Profit difference at index 66: 10025\n",
      "Profit difference at index 67: -1043998\n",
      "Profit difference at index 68: 1350395\n",
      "Profit difference at index 69: 80538\n",
      "Profit difference at index 70: -1223250\n",
      "Profit difference at index 71: 104148\n",
      "Profit difference at index 72: 843924\n",
      "Profit difference at index 73: -1808664\n",
      "Profit difference at index 74: 1505005\n",
      "Profit difference at index 75: 306402\n",
      "Profit difference at index 76: -143603\n",
      "Profit difference at index 77: -1266937\n",
      "Profit difference at index 78: -162519\n",
      "Profit difference at index 79: 1862002\n",
      "Profit difference at index 80: -52986\n",
      "Profit difference at index 81: -1627245\n",
      "Profit difference at index 82: 616795\n",
      "Profit difference at index 83: 628522\n",
      "Profit difference at index 84: 90895\n",
      "Profit difference at index 85: -224669\n"
     ]
    }
   ],
   "source": [
    "#to avoid comparing a tuple with an integer\n",
    "for i, profit_value in enumerate(budget_df['Profit/Losses']):\n",
    "  #skip the first row since there's no previous row to compare  \n",
    "    if i > 0:\n",
    "        #setting up the formula for checking the profit difference\n",
    "        profitdifference = profit_value - budget_df.loc[i - 1, 'Profit/Losses']\n",
    "        #checking that profit difference is working\n",
    "        print(f\"Profit difference at index {i}: {profitdifference}\")"
   ]
  },
  {
   "cell_type": "code",
   "execution_count": 6,
   "id": "57f0d964-180d-49b4-b065-10e986d448d3",
   "metadata": {},
   "outputs": [
    {
     "name": "stdout",
     "output_type": "stream",
     "text": [
      "Average: -8311.11\n"
     ]
    }
   ],
   "source": [
    "#creating a list to store the differences\n",
    "profit_differences = []\n",
    "\n",
    "for i, profit_value in enumerate(budget_df['Profit/Losses']):\n",
    "    # Skip the first row since there's no previous row to compare\n",
    "    if i > 0:\n",
    "        profit_difference = profit_value - budget_df.loc[i - 1, 'Profit/Losses']\n",
    "#append the profit differences to the empty list\n",
    "        profit_differences.append(profit_difference)\n",
    "\n",
    "# Calculate the average of profit differences\n",
    "average = sum(profit_differences) / len(profit_differences)\n",
    "#2 decimal places in the result, taken from stack overflow\n",
    "formattedaverage = \"{:.2f}\".format(average)\n",
    "#print Average\n",
    "print(\"Average:\", formattedaverage)"
   ]
  },
  {
   "cell_type": "code",
   "execution_count": 7,
   "id": "50689172-0ada-4bb1-b626-c16d58230c6f",
   "metadata": {},
   "outputs": [
    {
     "name": "stdout",
     "output_type": "stream",
     "text": [
      "Greatest Increase in Profits: 1862002\n",
      "Greatest Decrease in Profits: -1825558\n"
     ]
    }
   ],
   "source": [
    "#initializing with the first element of profit_differences\n",
    "maxamount = profit_differences[0]\n",
    "#for loop for grabbing the maximum amount in the ist\n",
    "for amount in profit_differences:\n",
    "    if amount > maxamount:\n",
    "        maxamount = amount\n",
    "print(f\"Greatest Increase in Profits:\", maxamount)\n",
    "\n",
    "#initalize greatest decrease\n",
    "\n",
    "minamount = profit_differences[0]\n",
    "\n",
    "for m in profit_differences:\n",
    "    if m < minamount:\n",
    "        minamount = m\n",
    "#print greatest decrease\n",
    "print(\"Greatest Decrease in Profits:\", minamount)"
   ]
  },
  {
   "cell_type": "code",
   "execution_count": 10,
   "id": "094d9993-bf6e-4393-b0ae-447f566eb0a6",
   "metadata": {},
   "outputs": [
    {
     "name": "stdout",
     "output_type": "stream",
     "text": [
      "Total Months: 86\n",
      "Total: 22564198\n",
      "Average Change: -8311.11\n",
      "Greatest Increase in Profits: ($1862002)\n",
      "Greatest Decrease in Profits: ($-1825558)\n",
      "Results exported to financial_analysis.txt\n"
     ]
    }
   ],
   "source": [
    "# Printing the results\n",
    "print(\"Total Months:\", uniquerows)\n",
    "print(\"Total:\", totalprofit)\n",
    "print(\"Average Change:\", formattedaverage)\n",
    "print(f\"Greatest Increase in Profits: (${maxamount})\")\n",
    "print(f\"Greatest Decrease in Profits: (${minamount})\")\n",
    "\n",
    "# Export the results to a text file\n",
    "output_path = \"financial_analysis.txt\"\n",
    "with open(output_path, \"w\") as text_file:\n",
    "    text_file.write(\"Financial Analysis\\n\")\n",
    "    text_file.write(\"----------------------------\\n\")\n",
    "    text_file.write(f\"Total Months: {uniquerows}\\n\")\n",
    "    text_file.write(f\"Total: ${totalprofit}\\n\")\n",
    "    text_file.write(f\"Average Change: ${formattedaverage}\\n\")\n",
    "    text_file.write(f\"Greatest Increase in Profits: (${maxamount})\\n\")\n",
    "    text_file.write(f\"Greatest Decrease in Profits: (${minamount})\\n\")\n",
    "\n",
    "print(f\"Results exported to {output_path}\")"
   ]
  },
  {
   "cell_type": "code",
   "execution_count": null,
   "id": "c39d87af-32fd-459b-b5c1-d7d6830aae3c",
   "metadata": {},
   "outputs": [],
   "source": []
  }
 ],
 "metadata": {
  "kernelspec": {
   "display_name": "Python 3 (ipykernel)",
   "language": "python",
   "name": "python3"
  },
  "language_info": {
   "codemirror_mode": {
    "name": "ipython",
    "version": 3
   },
   "file_extension": ".py",
   "mimetype": "text/x-python",
   "name": "python",
   "nbconvert_exporter": "python",
   "pygments_lexer": "ipython3",
   "version": "3.11.5"
  }
 },
 "nbformat": 4,
 "nbformat_minor": 5
}
