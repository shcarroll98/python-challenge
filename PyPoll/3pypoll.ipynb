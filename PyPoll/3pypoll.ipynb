{
 "cells": [
  {
   "cell_type": "code",
   "execution_count": 2,
   "id": "8209f92b-9017-4a6d-b135-35560ec18468",
   "metadata": {},
   "outputs": [
    {
     "data": {
      "text/html": [
       "<div>\n",
       "<style scoped>\n",
       "    .dataframe tbody tr th:only-of-type {\n",
       "        vertical-align: middle;\n",
       "    }\n",
       "\n",
       "    .dataframe tbody tr th {\n",
       "        vertical-align: top;\n",
       "    }\n",
       "\n",
       "    .dataframe thead th {\n",
       "        text-align: right;\n",
       "    }\n",
       "</style>\n",
       "<table border=\"1\" class=\"dataframe\">\n",
       "  <thead>\n",
       "    <tr style=\"text-align: right;\">\n",
       "      <th></th>\n",
       "      <th>Ballot ID</th>\n",
       "      <th>County</th>\n",
       "      <th>Candidate</th>\n",
       "    </tr>\n",
       "  </thead>\n",
       "  <tbody>\n",
       "    <tr>\n",
       "      <th>0</th>\n",
       "      <td>1323913</td>\n",
       "      <td>Jefferson</td>\n",
       "      <td>Charles Casper Stockham</td>\n",
       "    </tr>\n",
       "    <tr>\n",
       "      <th>1</th>\n",
       "      <td>1005842</td>\n",
       "      <td>Jefferson</td>\n",
       "      <td>Charles Casper Stockham</td>\n",
       "    </tr>\n",
       "    <tr>\n",
       "      <th>2</th>\n",
       "      <td>1880345</td>\n",
       "      <td>Jefferson</td>\n",
       "      <td>Charles Casper Stockham</td>\n",
       "    </tr>\n",
       "    <tr>\n",
       "      <th>3</th>\n",
       "      <td>1600337</td>\n",
       "      <td>Jefferson</td>\n",
       "      <td>Charles Casper Stockham</td>\n",
       "    </tr>\n",
       "    <tr>\n",
       "      <th>4</th>\n",
       "      <td>1835994</td>\n",
       "      <td>Jefferson</td>\n",
       "      <td>Charles Casper Stockham</td>\n",
       "    </tr>\n",
       "  </tbody>\n",
       "</table>\n",
       "</div>"
      ],
      "text/plain": [
       "   Ballot ID     County                Candidate\n",
       "0    1323913  Jefferson  Charles Casper Stockham\n",
       "1    1005842  Jefferson  Charles Casper Stockham\n",
       "2    1880345  Jefferson  Charles Casper Stockham\n",
       "3    1600337  Jefferson  Charles Casper Stockham\n",
       "4    1835994  Jefferson  Charles Casper Stockham"
      ]
     },
     "execution_count": 2,
     "metadata": {},
     "output_type": "execute_result"
    }
   ],
   "source": [
    "import os\n",
    "import csv\n",
    "import pandas as pd\n",
    "import pathlib as Path\n",
    "#import election data set and make it a dataframe\n",
    "csv_path = (\"C:/Users/secar/OneDrive/Documents/Bootcamp/data/election_data.csv\")\n",
    "\n",
    "election_df = pd.read_csv(csv_path, encoding=\"UTF-8\")\n",
    "#check the first 5 rows\n",
    "election_df.head()"
   ]
  },
  {
   "cell_type": "code",
   "execution_count": 3,
   "id": "18e8753c-9340-421b-b711-fd6e6120dc1c",
   "metadata": {},
   "outputs": [
    {
     "name": "stdout",
     "output_type": "stream",
     "text": [
      "Total Votes: 369711\n"
     ]
    }
   ],
   "source": [
    "#sum up the amount of votes, making sure there are no repeats\n",
    "#referenced substack for the nunique() function\n",
    "uniqueballotid = election_df['Ballot ID'].nunique()\n",
    "print(\"Total Votes:\", uniqueballotid)"
   ]
  },
  {
   "cell_type": "code",
   "execution_count": 5,
   "id": "c6793273-a780-4c32-a774-99abb3450f69",
   "metadata": {},
   "outputs": [
    {
     "name": "stdout",
     "output_type": "stream",
     "text": [
      "Charles Casper Stockham\n",
      "Diana DeGette\n",
      "Raymon Anthony Doane\n"
     ]
    }
   ],
   "source": [
    "#grabbing each unique name from the Candidate row\n",
    "#referenced substack for the unique function\n",
    "candidates = election_df['Candidate'].unique()\n",
    "for name in candidates:\n",
    "    print(name)"
   ]
  },
  {
   "cell_type": "code",
   "execution_count": 6,
   "id": "d83d316a-62cc-4321-800e-5f51e06da638",
   "metadata": {},
   "outputs": [
    {
     "name": "stdout",
     "output_type": "stream",
     "text": [
      "Charles Casper Stockham: 23.049 85213\n",
      "Diana DeGette: 73.812 272892\n",
      "Raymon Anthony Doane: 3.139 11606\n"
     ]
    }
   ],
   "source": [
    "Charles = 'Charles Casper Stockham'\n",
    "charlescount = (election_df['Candidate'] == Charles).sum()\n",
    "charlespercent = (charlescount / uniqueballotid)*100\n",
    "formatcharles = \"{:.3f}\".format(charlespercent)\n",
    "Diana = 'Diana DeGette'\n",
    "dianacount = (election_df['Candidate'] == Diana).sum()\n",
    "dianapercent = (dianacount / uniqueballotid)*100\n",
    "formatdiana = \"{:.3f}\".format(dianapercent)\n",
    "Raymon = 'Raymon Anthony Doane'\n",
    "raymoncount = (election_df['Candidate'] == Raymon).sum()\n",
    "raymonpercent = (raymoncount / uniqueballotid)*100\n",
    "formatraymon = \"{:.3f}\".format(raymonpercent)\n",
    "print(\"Charles Casper Stockham:\", formatcharles, charlescount)\n",
    "print(\"Diana DeGette:\", formatdiana, dianacount)\n",
    "print(\"Raymon Anthony Doane:\", formatraymon, raymoncount)"
   ]
  },
  {
   "cell_type": "code",
   "execution_count": 7,
   "id": "f1d9163f-bc0a-4571-88c3-6a02edc88a64",
   "metadata": {},
   "outputs": [
    {
     "name": "stdout",
     "output_type": "stream",
     "text": [
      "Winner: Diana Degette\n"
     ]
    }
   ],
   "source": [
    "#create a dictionary using the names and percentages calculated above\n",
    "results = {'Charles Casper Stockham': 23.049, 'Diana Degette': 73.817, 'Raymon Anthony Doane': 3.139} \n",
    "#find the maximum within the dictionary\n",
    "winner = max(results, key=results.get)\n",
    "#print the winner\n",
    "print(f\"Winner: {winner}\")"
   ]
  },
  {
   "cell_type": "code",
   "execution_count": 8,
   "id": "840cc094-dd47-4cd5-af0d-886cef518e9e",
   "metadata": {},
   "outputs": [
    {
     "name": "stdout",
     "output_type": "stream",
     "text": [
      "Results exported to election_results.txt\n"
     ]
    }
   ],
   "source": [
    "# Export the results to a text file\n",
    "output_path = \"election_results.txt\"\n",
    "with open(output_path, \"w\") as text_file:\n",
    "    text_file.write(\"Election Results\\n\")\n",
    "    text_file.write(\"-------------------------\\n\")\n",
    "    text_file.write(f\"Total Votes: {uniqueballotid}\\n\")\n",
    "    text_file.write(\"-------------------------\\n\")\n",
    "    text_file.write(f\"Charles Casper Stockham: {formatcharles}% ({charlescount})\\n\")\n",
    "    text_file.write(f\"Diana DeGette: {formatdiana}% ({dianacount})\\n\")\n",
    "    text_file.write(f\"Raymon Anthony Doane: {formatraymon}% ({raymoncount})\\n\")\n",
    "    text_file.write(\"-------------------------\\n\")\n",
    "    text_file.write(f\"Winner: {winner}\\n\")\n",
    "    text_file.write(\"-------------------------\\n\")\n",
    "\n",
    "print(f\"Results exported to {output_path}\")"
   ]
  },
  {
   "cell_type": "code",
   "execution_count": null,
   "id": "92c7748d-ce6c-41b2-a1d3-6026b92da548",
   "metadata": {},
   "outputs": [],
   "source": []
  }
 ],
 "metadata": {
  "kernelspec": {
   "display_name": "Python 3 (ipykernel)",
   "language": "python",
   "name": "python3"
  },
  "language_info": {
   "codemirror_mode": {
    "name": "ipython",
    "version": 3
   },
   "file_extension": ".py",
   "mimetype": "text/x-python",
   "name": "python",
   "nbconvert_exporter": "python",
   "pygments_lexer": "ipython3",
   "version": "3.11.5"
  }
 },
 "nbformat": 4,
 "nbformat_minor": 5
}
